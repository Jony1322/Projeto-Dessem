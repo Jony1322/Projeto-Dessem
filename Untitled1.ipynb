{
  "nbformat": 4,
  "nbformat_minor": 0,
  "metadata": {
    "colab": {
      "name": "Untitled1.ipynb",
      "provenance": [],
      "authorship_tag": "ABX9TyPguN0Fz9tRmxyOQeo7P7V6",
      "include_colab_link": true
    },
    "kernelspec": {
      "name": "python3",
      "display_name": "Python 3"
    },
    "language_info": {
      "name": "python"
    }
  },
  "cells": [
    {
      "cell_type": "markdown",
      "metadata": {
        "id": "view-in-github",
        "colab_type": "text"
      },
      "source": [
        "<a href=\"https://colab.research.google.com/github/Jony1322/Projeto-Dessem/blob/main/Untitled1.ipynb\" target=\"_parent\"><img src=\"https://colab.research.google.com/assets/colab-badge.svg\" alt=\"Open In Colab\"/></a>"
      ]
    },
    {
      "cell_type": "code",
      "execution_count": null,
      "metadata": {
        "colab": {
          "base_uri": "https://localhost:8080/",
          "height": 644
        },
        "id": "Iv7UOJqbSyCV",
        "outputId": "ae8e2907-7e00-4796-eccc-9b4f2d6bed9a"
      },
      "outputs": [
        {
          "output_type": "stream",
          "name": "stdout",
          "text": [
            "Collecting PySDDP\n",
            "  Downloading PySDDP-0.0.39-py3-none-any.whl (191 kB)\n",
            "\u001b[?25l\r\u001b[K     |█▊                              | 10 kB 18.7 MB/s eta 0:00:01\r\u001b[K     |███▍                            | 20 kB 11.9 MB/s eta 0:00:01\r\u001b[K     |█████▏                          | 30 kB 9.4 MB/s eta 0:00:01\r\u001b[K     |██████▉                         | 40 kB 8.5 MB/s eta 0:00:01\r\u001b[K     |████████▌                       | 51 kB 4.4 MB/s eta 0:00:01\r\u001b[K     |██████████▎                     | 61 kB 5.1 MB/s eta 0:00:01\r\u001b[K     |████████████                    | 71 kB 5.5 MB/s eta 0:00:01\r\u001b[K     |█████████████▊                  | 81 kB 5.7 MB/s eta 0:00:01\r\u001b[K     |███████████████▍                | 92 kB 6.3 MB/s eta 0:00:01\r\u001b[K     |█████████████████               | 102 kB 5.0 MB/s eta 0:00:01\r\u001b[K     |██████████████████▉             | 112 kB 5.0 MB/s eta 0:00:01\r\u001b[K     |████████████████████▌           | 122 kB 5.0 MB/s eta 0:00:01\r\u001b[K     |██████████████████████▏         | 133 kB 5.0 MB/s eta 0:00:01\r\u001b[K     |████████████████████████        | 143 kB 5.0 MB/s eta 0:00:01\r\u001b[K     |█████████████████████████▋      | 153 kB 5.0 MB/s eta 0:00:01\r\u001b[K     |███████████████████████████▍    | 163 kB 5.0 MB/s eta 0:00:01\r\u001b[K     |█████████████████████████████   | 174 kB 5.0 MB/s eta 0:00:01\r\u001b[K     |██████████████████████████████▊ | 184 kB 5.0 MB/s eta 0:00:01\r\u001b[K     |████████████████████████████████| 191 kB 5.0 MB/s \n",
            "\u001b[?25hRequirement already satisfied: scipy in /usr/local/lib/python3.7/dist-packages (from PySDDP) (1.4.1)\n",
            "Collecting typing\n",
            "  Downloading typing-3.7.4.3.tar.gz (78 kB)\n",
            "\u001b[?25l\r\u001b[K     |████▏                           | 10 kB 27.1 MB/s eta 0:00:01\r\u001b[K     |████████▍                       | 20 kB 29.8 MB/s eta 0:00:01\r\u001b[K     |████████████▌                   | 30 kB 34.5 MB/s eta 0:00:01\r\u001b[K     |████████████████▊               | 40 kB 38.4 MB/s eta 0:00:01\r\u001b[K     |████████████████████▉           | 51 kB 41.2 MB/s eta 0:00:01\r\u001b[K     |█████████████████████████       | 61 kB 44.5 MB/s eta 0:00:01\r\u001b[K     |█████████████████████████████▏  | 71 kB 47.2 MB/s eta 0:00:01\r\u001b[K     |████████████████████████████████| 78 kB 6.4 MB/s \n",
            "\u001b[?25hRequirement already satisfied: numpy in /usr/local/lib/python3.7/dist-packages (from PySDDP) (1.21.6)\n",
            "Requirement already satisfied: pandas in /usr/local/lib/python3.7/dist-packages (from PySDDP) (1.3.5)\n",
            "Collecting pyswarm\n",
            "  Downloading pyswarm-0.6.tar.gz (4.3 kB)\n",
            "Requirement already satisfied: matplotlib in /usr/local/lib/python3.7/dist-packages (from PySDDP) (3.2.2)\n",
            "Requirement already satisfied: cvxopt in /usr/local/lib/python3.7/dist-packages (from PySDDP) (1.2.7)\n",
            "Requirement already satisfied: cycler>=0.10 in /usr/local/lib/python3.7/dist-packages (from matplotlib->PySDDP) (0.11.0)\n",
            "Requirement already satisfied: kiwisolver>=1.0.1 in /usr/local/lib/python3.7/dist-packages (from matplotlib->PySDDP) (1.4.2)\n",
            "Requirement already satisfied: python-dateutil>=2.1 in /usr/local/lib/python3.7/dist-packages (from matplotlib->PySDDP) (2.8.2)\n",
            "Requirement already satisfied: pyparsing!=2.0.4,!=2.1.2,!=2.1.6,>=2.0.1 in /usr/local/lib/python3.7/dist-packages (from matplotlib->PySDDP) (3.0.8)\n",
            "Requirement already satisfied: typing-extensions in /usr/local/lib/python3.7/dist-packages (from kiwisolver>=1.0.1->matplotlib->PySDDP) (4.2.0)\n",
            "Requirement already satisfied: six>=1.5 in /usr/local/lib/python3.7/dist-packages (from python-dateutil>=2.1->matplotlib->PySDDP) (1.15.0)\n",
            "Requirement already satisfied: pytz>=2017.3 in /usr/local/lib/python3.7/dist-packages (from pandas->PySDDP) (2022.1)\n",
            "Building wheels for collected packages: pyswarm, typing\n",
            "  Building wheel for pyswarm (setup.py) ... \u001b[?25l\u001b[?25hdone\n",
            "  Created wheel for pyswarm: filename=pyswarm-0.6-py3-none-any.whl size=4481 sha256=279f58412804bde4a5c4b69a684a5e958af9f83e9a08c6415ee6a1604f931a91\n",
            "  Stored in directory: /root/.cache/pip/wheels/ac/69/65/926e9c51b9fa99757cb43e8f6b74c5e6bb8b41a038b35c2db1\n",
            "  Building wheel for typing (setup.py) ... \u001b[?25l\u001b[?25hdone\n",
            "  Created wheel for typing: filename=typing-3.7.4.3-py3-none-any.whl size=26325 sha256=a6bab5df7ffeb32cba0b0bce017d4bbf25c050100881aabd79f2bce9e26dfa9e\n",
            "  Stored in directory: /root/.cache/pip/wheels/35/f3/15/01aa6571f0a72ee6ae7b827c1491c37a1f72d686fd22b43b0e\n",
            "Successfully built pyswarm typing\n",
            "Installing collected packages: typing, pyswarm, PySDDP\n",
            "Successfully installed PySDDP-0.0.39 pyswarm-0.6 typing-3.7.4.3\n"
          ]
        },
        {
          "output_type": "display_data",
          "data": {
            "application/vnd.colab-display-data+json": {
              "pip_warning": {
                "packages": [
                  "typing"
                ]
              }
            }
          },
          "metadata": {}
        }
      ],
      "source": [
        "!pip install PySDDP"
      ]
    },
    {
      "cell_type": "code",
      "source": [
        "from PySDDP.Pde import Dessem\n",
        "caminho = (\"/content/Dessem/\")"
      ],
      "metadata": {
        "id": "QgbNNqV5S0sR"
      },
      "execution_count": null,
      "outputs": []
    },
    {
      "cell_type": "code",
      "source": [
        "Des  = Dessem(caminho, 'dessem.arq')"
      ],
      "metadata": {
        "colab": {
          "base_uri": "https://localhost:8080/"
        },
        "id": "z4arQXI1TsCt",
        "outputId": "11ad1b00-b758-48a8-da18-fffd9dd5501f"
      },
      "execution_count": null,
      "outputs": [
        {
          "output_type": "stream",
          "name": "stdout",
          "text": [
            "OK! Leitura do dessem.arq realizada com sucesso.\n",
            "OK! Leitura do areacont.dat realizada com sucesso.\n",
            "OK! Leitura do termdat.dat realizada com sucesso.\n",
            "OK! Leitura do hidr.dat realizada com sucesso.\n",
            "OK! Leitura do deflant.dat realizada com sucesso.\n",
            "OK! Leitura do renovaveis.dat realizada com sucesso.\n",
            "OK! Leitura do ils_tri.dat realizada com sucesso.\n",
            "OK! Leitura do infofcf.dat realizada com sucesso.\n",
            "OK! Leitura do operuh.dat realizada com sucesso.\n",
            "OK! Leitura do ptoper.dat realizada com sucesso.\n",
            "OK! Leitura do respotele.dat realizada com sucesso.\n",
            "OK! Leitura do restseg.dat realizada com sucesso.\n",
            "OK! Leitura do entdados.dat realizada com sucesso.\n",
            "OK! Leitura do rstlpp.dat realizada com sucesso.\n",
            "OK! Leitura do cotasr11.dat realizada com sucesso.\n",
            "OK! Leitura do curvtviag.dat realizada com sucesso.\n",
            "OK! Leitura do desselet.dat realizada com sucesso.\n",
            "OK! Leitura do leve.pwf realizada com sucesso.\n",
            "OK! Leitura do media.pwf realizada com sucesso.\n",
            "OK! Leitura do pesada.pwf realizada com sucesso.\n",
            "OK! Leitura do pat01.afp realizada com sucesso.\n",
            "OK! Leitura do pat02.afp realizada com sucesso.\n",
            "OK! Leitura do pat03.afp realizada com sucesso.\n",
            "OK! Leitura do pat04.afp realizada com sucesso.\n",
            "OK! Leitura do pat05.afp realizada com sucesso.\n",
            "OK! Leitura do pat06.afp realizada com sucesso.\n",
            "OK! Leitura do pat07.afp realizada com sucesso.\n",
            "OK! Leitura do pat08.afp realizada com sucesso.\n",
            "OK! Leitura do pat09.afp realizada com sucesso.\n",
            "OK! Leitura do pat10.afp realizada com sucesso.\n",
            "OK! Leitura do pat11.afp realizada com sucesso.\n",
            "OK! Leitura do pat12.afp realizada com sucesso.\n",
            "OK! Leitura do pat13.afp realizada com sucesso.\n",
            "OK! Leitura do pat14.afp realizada com sucesso.\n",
            "OK! Leitura do pat15.afp realizada com sucesso.\n",
            "OK! Leitura do pat16.afp realizada com sucesso.\n",
            "OK! Leitura do pat17.afp realizada com sucesso.\n",
            "OK! Leitura do pat18.afp realizada com sucesso.\n",
            "OK! Leitura do pat19.afp realizada com sucesso.\n",
            "OK! Leitura do pat20.afp realizada com sucesso.\n",
            "OK! Leitura do pat21.afp realizada com sucesso.\n",
            "OK! Leitura do pat22.afp realizada com sucesso.\n",
            "OK! Leitura do pat23.afp realizada com sucesso.\n",
            "OK! Leitura do pat24.afp realizada com sucesso.\n",
            "OK! Leitura do pat25.afp realizada com sucesso.\n",
            "OK! Leitura do pat26.afp realizada com sucesso.\n",
            "OK! Leitura do pat27.afp realizada com sucesso.\n",
            "OK! Leitura do pat28.afp realizada com sucesso.\n",
            "OK! Leitura do pat29.afp realizada com sucesso.\n",
            "OK! Leitura do pat30.afp realizada com sucesso.\n",
            "OK! Leitura do pat31.afp realizada com sucesso.\n",
            "OK! Leitura do pat32.afp realizada com sucesso.\n",
            "OK! Leitura do pat33.afp realizada com sucesso.\n",
            "OK! Leitura do pat34.afp realizada com sucesso.\n",
            "OK! Leitura do pat35.afp realizada com sucesso.\n",
            "OK! Leitura do pat36.afp realizada com sucesso.\n",
            "OK! Leitura do pat37.afp realizada com sucesso.\n",
            "OK! Leitura do pat38.afp realizada com sucesso.\n",
            "OK! Leitura do pat39.afp realizada com sucesso.\n",
            "OK! Leitura do pat40.afp realizada com sucesso.\n",
            "OK! Leitura do pat41.afp realizada com sucesso.\n",
            "OK! Leitura do pat42.afp realizada com sucesso.\n",
            "OK! Leitura do pat43.afp realizada com sucesso.\n",
            "OK! Leitura do pat44.afp realizada com sucesso.\n",
            "OK! Leitura do pat45.afp realizada com sucesso.\n",
            "OK! Leitura do pat46.afp realizada com sucesso.\n",
            "OK! Leitura do pat47.afp realizada com sucesso.\n",
            "OK! Leitura do pat48.afp realizada com sucesso.\n",
            "Lista de Arquivos Não Lidos:\n",
            "----- -- -------- --- ------\n",
            "ATENÇÃO! A leitura do arquivo bateria não foi realizada.\n",
            "ATENÇÃO! A leitura do arquivo rmpflx não foi realizada.\n",
            "ATENÇÃO! A leitura do arquivo simul não foi realizada.\n",
            "ATENÇÃO! A leitura do arquivo tolperd não foi realizada.\n",
            "ATENÇÃO! A leitura do arquivo solar não foi realizada.\n"
          ]
        }
      ]
    },
    {
      "cell_type": "code",
      "source": [
        "Des.solar"
      ],
      "metadata": {
        "colab": {
          "base_uri": "https://localhost:8080/"
        },
        "id": "AxkReFiUcdQK",
        "outputId": "f8979809-e59b-477a-f4f5-7f800926de20"
      },
      "execution_count": null,
      "outputs": [
        {
          "output_type": "execute_result",
          "data": {
            "text/plain": [
              "<PySDDP.dessem.script.solar.Solar at 0x7f14bd604890>"
            ]
          },
          "metadata": {},
          "execution_count": 15
        }
      ]
    },
    {
      "cell_type": "markdown",
      "source": [
        "# Nova seção"
      ],
      "metadata": {
        "id": "CfHVTLjnVZEq"
      }
    }
  ]
}